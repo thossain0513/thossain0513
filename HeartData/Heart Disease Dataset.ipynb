{
 "cells": [
  {
   "cell_type": "markdown",
   "id": "6f6d3a5b",
   "metadata": {},
   "source": [
    "# Heart Disease Dataset From UCI"
   ]
  },
  {
   "cell_type": "markdown",
   "id": "9243dc38",
   "metadata": {},
   "source": [
    "Here, we will be using heart data from the UCI Machine Learning repository and we will build a support vector machine that can use this dataset to predict the presence of heart disease in a patient."
   ]
  },
  {
   "cell_type": "code",
   "execution_count": 1,
   "id": "443a4b24",
   "metadata": {},
   "outputs": [],
   "source": [
    "import numpy as np\n",
    "import pandas as pd\n",
    "import matplotlib.pyplot as plt\n",
    "import seaborn as sns\n",
    "%matplotlib inline"
   ]
  },
  {
   "cell_type": "code",
   "execution_count": 5,
   "id": "b53be811",
   "metadata": {},
   "outputs": [
    {
     "data": {
      "text/html": [
       "<div>\n",
       "<style scoped>\n",
       "    .dataframe tbody tr th:only-of-type {\n",
       "        vertical-align: middle;\n",
       "    }\n",
       "\n",
       "    .dataframe tbody tr th {\n",
       "        vertical-align: top;\n",
       "    }\n",
       "\n",
       "    .dataframe thead th {\n",
       "        text-align: right;\n",
       "    }\n",
       "</style>\n",
       "<table border=\"1\" class=\"dataframe\">\n",
       "  <thead>\n",
       "    <tr style=\"text-align: right;\">\n",
       "      <th></th>\n",
       "      <th>age</th>\n",
       "      <th>sex</th>\n",
       "      <th>cp</th>\n",
       "      <th>trestbps</th>\n",
       "      <th>chol</th>\n",
       "      <th>fbs</th>\n",
       "      <th>restecg</th>\n",
       "      <th>thalach</th>\n",
       "      <th>exang</th>\n",
       "      <th>oldpeak</th>\n",
       "      <th>slope</th>\n",
       "      <th>ca</th>\n",
       "      <th>thal</th>\n",
       "      <th>target</th>\n",
       "    </tr>\n",
       "  </thead>\n",
       "  <tbody>\n",
       "    <tr>\n",
       "      <th>0</th>\n",
       "      <td>63</td>\n",
       "      <td>1</td>\n",
       "      <td>3</td>\n",
       "      <td>145</td>\n",
       "      <td>233</td>\n",
       "      <td>1</td>\n",
       "      <td>0</td>\n",
       "      <td>150</td>\n",
       "      <td>0</td>\n",
       "      <td>2.3</td>\n",
       "      <td>0</td>\n",
       "      <td>0</td>\n",
       "      <td>1</td>\n",
       "      <td>1</td>\n",
       "    </tr>\n",
       "    <tr>\n",
       "      <th>1</th>\n",
       "      <td>37</td>\n",
       "      <td>1</td>\n",
       "      <td>2</td>\n",
       "      <td>130</td>\n",
       "      <td>250</td>\n",
       "      <td>0</td>\n",
       "      <td>1</td>\n",
       "      <td>187</td>\n",
       "      <td>0</td>\n",
       "      <td>3.5</td>\n",
       "      <td>0</td>\n",
       "      <td>0</td>\n",
       "      <td>2</td>\n",
       "      <td>1</td>\n",
       "    </tr>\n",
       "    <tr>\n",
       "      <th>2</th>\n",
       "      <td>41</td>\n",
       "      <td>0</td>\n",
       "      <td>1</td>\n",
       "      <td>130</td>\n",
       "      <td>204</td>\n",
       "      <td>0</td>\n",
       "      <td>0</td>\n",
       "      <td>172</td>\n",
       "      <td>0</td>\n",
       "      <td>1.4</td>\n",
       "      <td>2</td>\n",
       "      <td>0</td>\n",
       "      <td>2</td>\n",
       "      <td>1</td>\n",
       "    </tr>\n",
       "    <tr>\n",
       "      <th>3</th>\n",
       "      <td>56</td>\n",
       "      <td>1</td>\n",
       "      <td>1</td>\n",
       "      <td>120</td>\n",
       "      <td>236</td>\n",
       "      <td>0</td>\n",
       "      <td>1</td>\n",
       "      <td>178</td>\n",
       "      <td>0</td>\n",
       "      <td>0.8</td>\n",
       "      <td>2</td>\n",
       "      <td>0</td>\n",
       "      <td>2</td>\n",
       "      <td>1</td>\n",
       "    </tr>\n",
       "    <tr>\n",
       "      <th>4</th>\n",
       "      <td>57</td>\n",
       "      <td>0</td>\n",
       "      <td>0</td>\n",
       "      <td>120</td>\n",
       "      <td>354</td>\n",
       "      <td>0</td>\n",
       "      <td>1</td>\n",
       "      <td>163</td>\n",
       "      <td>1</td>\n",
       "      <td>0.6</td>\n",
       "      <td>2</td>\n",
       "      <td>0</td>\n",
       "      <td>2</td>\n",
       "      <td>1</td>\n",
       "    </tr>\n",
       "    <tr>\n",
       "      <th>...</th>\n",
       "      <td>...</td>\n",
       "      <td>...</td>\n",
       "      <td>...</td>\n",
       "      <td>...</td>\n",
       "      <td>...</td>\n",
       "      <td>...</td>\n",
       "      <td>...</td>\n",
       "      <td>...</td>\n",
       "      <td>...</td>\n",
       "      <td>...</td>\n",
       "      <td>...</td>\n",
       "      <td>...</td>\n",
       "      <td>...</td>\n",
       "      <td>...</td>\n",
       "    </tr>\n",
       "    <tr>\n",
       "      <th>298</th>\n",
       "      <td>57</td>\n",
       "      <td>0</td>\n",
       "      <td>0</td>\n",
       "      <td>140</td>\n",
       "      <td>241</td>\n",
       "      <td>0</td>\n",
       "      <td>1</td>\n",
       "      <td>123</td>\n",
       "      <td>1</td>\n",
       "      <td>0.2</td>\n",
       "      <td>1</td>\n",
       "      <td>0</td>\n",
       "      <td>3</td>\n",
       "      <td>0</td>\n",
       "    </tr>\n",
       "    <tr>\n",
       "      <th>299</th>\n",
       "      <td>45</td>\n",
       "      <td>1</td>\n",
       "      <td>3</td>\n",
       "      <td>110</td>\n",
       "      <td>264</td>\n",
       "      <td>0</td>\n",
       "      <td>1</td>\n",
       "      <td>132</td>\n",
       "      <td>0</td>\n",
       "      <td>1.2</td>\n",
       "      <td>1</td>\n",
       "      <td>0</td>\n",
       "      <td>3</td>\n",
       "      <td>0</td>\n",
       "    </tr>\n",
       "    <tr>\n",
       "      <th>300</th>\n",
       "      <td>68</td>\n",
       "      <td>1</td>\n",
       "      <td>0</td>\n",
       "      <td>144</td>\n",
       "      <td>193</td>\n",
       "      <td>1</td>\n",
       "      <td>1</td>\n",
       "      <td>141</td>\n",
       "      <td>0</td>\n",
       "      <td>3.4</td>\n",
       "      <td>1</td>\n",
       "      <td>2</td>\n",
       "      <td>3</td>\n",
       "      <td>0</td>\n",
       "    </tr>\n",
       "    <tr>\n",
       "      <th>301</th>\n",
       "      <td>57</td>\n",
       "      <td>1</td>\n",
       "      <td>0</td>\n",
       "      <td>130</td>\n",
       "      <td>131</td>\n",
       "      <td>0</td>\n",
       "      <td>1</td>\n",
       "      <td>115</td>\n",
       "      <td>1</td>\n",
       "      <td>1.2</td>\n",
       "      <td>1</td>\n",
       "      <td>1</td>\n",
       "      <td>3</td>\n",
       "      <td>0</td>\n",
       "    </tr>\n",
       "    <tr>\n",
       "      <th>302</th>\n",
       "      <td>57</td>\n",
       "      <td>0</td>\n",
       "      <td>1</td>\n",
       "      <td>130</td>\n",
       "      <td>236</td>\n",
       "      <td>0</td>\n",
       "      <td>0</td>\n",
       "      <td>174</td>\n",
       "      <td>0</td>\n",
       "      <td>0.0</td>\n",
       "      <td>1</td>\n",
       "      <td>1</td>\n",
       "      <td>2</td>\n",
       "      <td>0</td>\n",
       "    </tr>\n",
       "  </tbody>\n",
       "</table>\n",
       "<p>303 rows × 14 columns</p>\n",
       "</div>"
      ],
      "text/plain": [
       "     age  sex  cp  trestbps  chol  fbs  restecg  thalach  exang  oldpeak  \\\n",
       "0     63    1   3       145   233    1        0      150      0      2.3   \n",
       "1     37    1   2       130   250    0        1      187      0      3.5   \n",
       "2     41    0   1       130   204    0        0      172      0      1.4   \n",
       "3     56    1   1       120   236    0        1      178      0      0.8   \n",
       "4     57    0   0       120   354    0        1      163      1      0.6   \n",
       "..   ...  ...  ..       ...   ...  ...      ...      ...    ...      ...   \n",
       "298   57    0   0       140   241    0        1      123      1      0.2   \n",
       "299   45    1   3       110   264    0        1      132      0      1.2   \n",
       "300   68    1   0       144   193    1        1      141      0      3.4   \n",
       "301   57    1   0       130   131    0        1      115      1      1.2   \n",
       "302   57    0   1       130   236    0        0      174      0      0.0   \n",
       "\n",
       "     slope  ca  thal  target  \n",
       "0        0   0     1       1  \n",
       "1        0   0     2       1  \n",
       "2        2   0     2       1  \n",
       "3        2   0     2       1  \n",
       "4        2   0     2       1  \n",
       "..     ...  ..   ...     ...  \n",
       "298      1   0     3       0  \n",
       "299      1   0     3       0  \n",
       "300      1   2     3       0  \n",
       "301      1   1     3       0  \n",
       "302      1   1     2       0  \n",
       "\n",
       "[303 rows x 14 columns]"
      ]
     },
     "execution_count": 5,
     "metadata": {},
     "output_type": "execute_result"
    }
   ],
   "source": [
    "heart = pd.read_csv('heart.csv')\n",
    "heart"
   ]
  },
  {
   "cell_type": "markdown",
   "id": "025c3379",
   "metadata": {},
   "source": [
    "# EDA"
   ]
  },
  {
   "cell_type": "code",
   "execution_count": 7,
   "id": "d43bcffa",
   "metadata": {},
   "outputs": [
    {
     "data": {
      "text/plain": [
       "<AxesSubplot:xlabel='sex', ylabel='count'>"
      ]
     },
     "execution_count": 7,
     "metadata": {},
     "output_type": "execute_result"
    },
    {
     "data": {
      "image/png": "[encoded data removed]",
      "text/plain": [
       "<Figure size 432x288 with 1 Axes>"
      ]
     },
     "metadata": {
      "needs_background": "light"
     },
     "output_type": "display_data"
    }
   ],
   "source": [
    "sns.countplot(x = 'sex', data = heart)\n",
    "#There seems to be twice as many males than females in this dataset."
   ]
  },
  {
   "cell_type": "code",
   "execution_count": 13,
   "id": "a5f0616d",
   "metadata": {},
   "outputs": [
    {
     "data": {
      "text/plain": [
       "(array([ 2.,  3.,  7., 15., 20., 38., 32., 37., 37., 31., 22., 16., 19.,\n",
       "        11.,  5.,  2.,  1.,  0.,  1.,  3.,  0.,  0.,  0.,  0.,  0.,  0.,\n",
       "         0.,  0.,  0.,  1.]),\n",
       " array([126. , 140.6, 155.2, 169.8, 184.4, 199. , 213.6, 228.2, 242.8,\n",
       "        257.4, 272. , 286.6, 301.2, 315.8, 330.4, 345. , 359.6, 374.2,\n",
       "        388.8, 403.4, 418. , 432.6, 447.2, 461.8, 476.4, 491. , 505.6,\n",
       "        520.2, 534.8, 549.4, 564. ]),\n",
       " <BarContainer object of 30 artists>)"
      ]
     },
     "execution_count": 13,
     "metadata": {},
     "output_type": "execute_result"
    },
    {
     "data": {
      "image/png": "[encoded data removed]",
      "text/plain": [
       "<Figure size 432x288 with 1 Axes>"
      ]
     },
     "metadata": {
      "needs_background": "light"
     },
     "output_type": "display_data"
    }
   ],
   "source": [
    "plt.hist('chol', bins = 30, data = heart)\n",
    "#Serum cholesterol is more or less normally distribuuted so we can be hopeful of a simple random sample in the dataset."
   ]
  },
  {
   "cell_type": "code",
   "execution_count": 116,
   "id": "f8ac4354",
   "metadata": {},
   "outputs": [
    {
     "data": {
      "text/plain": [
       "<AxesSubplot:xlabel='fbs', ylabel='count'>"
      ]
     },
     "execution_count": 116,
     "metadata": {},
     "output_type": "execute_result"
    },
    {
     "data": {
      "image/png": "[encoded data removed]",
      "text/plain": [
       "<Figure size 432x288 with 1 Axes>"
      ]
     },
     "metadata": {
      "needs_background": "light"
     },
     "output_type": "display_data"
    }
   ],
   "source": [
    "sns.countplot(x = 'fbs', data = heart)\n",
    "#Majority of people have fasting blood sugar < 120 mg/DL."
   ]
  },
  {
   "cell_type": "code",
   "execution_count": 118,
   "id": "0d6c474d",
   "metadata": {},
   "outputs": [
    {
     "data": {
      "text/plain": [
       "<AxesSubplot:xlabel='age', ylabel='thalach'>"
      ]
     },
     "execution_count": 118,
     "metadata": {},
     "output_type": "execute_result"
    },
    {
     "data": {
      "image/png": "[encoded data removed]",
      "text/plain": [
       "<Figure size 432x288 with 1 Axes>"
      ]
     },
     "metadata": {
      "needs_background": "light"
     },
     "output_type": "display_data"
    }
   ],
   "source": [
    "sns.scatterplot(x = 'age', y = 'thalach', hue = 'sex', data = heart)"
   ]
  },
  {
   "cell_type": "code",
   "execution_count": 123,
   "id": "864a8967",
   "metadata": {},
   "outputs": [
    {
     "name": "stdout",
     "output_type": "stream",
     "text": [
      "Mean of male maximum heart rates:  148.96135265700482\n",
      "Mean of female maximum heart rates:  151.125\n"
     ]
    }
   ],
   "source": [
    "print('Mean of male maximum heart rates: ', np.mean(heart[heart['sex'] == 1]['thalach']))\n",
    "print('Mean of female maximum heart rates: ', np.mean(heart[heart['sex'] == 0]['thalach']))"
   ]
  },
  {
   "cell_type": "markdown",
   "id": "14d6f659",
   "metadata": {},
   "source": [
    "**Females seem to have a higher average heart rate but we also need to keep in mind that these results may be skewed as there are twice as many male data points in the set.**"
   ]
  },
  {
   "cell_type": "markdown",
   "id": "b01d6875",
   "metadata": {},
   "source": [
    "# Building the SVM Model"
   ]
  },
  {
   "cell_type": "code",
   "execution_count": 108,
   "id": "06531a92",
   "metadata": {},
   "outputs": [],
   "source": [
    "from sklearn.svm import SVC"
   ]
  },
  {
   "cell_type": "code",
   "execution_count": 109,
   "id": "44096ba2",
   "metadata": {},
   "outputs": [],
   "source": [
    "svc = SVC()"
   ]
  },
  {
   "cell_type": "markdown",
   "id": "c91df91a",
   "metadata": {},
   "source": [
    "**Time to split the training and testing data.**"
   ]
  },
  {
   "cell_type": "code",
   "execution_count": 110,
   "id": "246dfd7c",
   "metadata": {},
   "outputs": [],
   "source": [
    "from sklearn.model_selection import train_test_split"
   ]
  },
  {
   "cell_type": "code",
   "execution_count": 111,
   "id": "e68072ae",
   "metadata": {},
   "outputs": [],
   "source": [
    "X = heart.drop(['target'], axis = 1)\n",
    "y = heart['target']\n",
    "X_train, X_test, y_train, y_test = train_test_split(X, y, test_size=0.33, random_state=42)"
   ]
  },
  {
   "cell_type": "code",
   "execution_count": 112,
   "id": "0b0bf908",
   "metadata": {},
   "outputs": [
    {
     "data": {
      "text/plain": [
       "SVC()"
      ]
     },
     "execution_count": 112,
     "metadata": {},
     "output_type": "execute_result"
    }
   ],
   "source": [
    "svc.fit(X_train, y_train)"
   ]
  },
  {
   "cell_type": "code",
   "execution_count": 113,
   "id": "e59b5a5f",
   "metadata": {},
   "outputs": [],
   "source": [
    "predictions = svc.predict(X_test)"
   ]
  },
  {
   "cell_type": "code",
   "execution_count": 114,
   "id": "32f7128c",
   "metadata": {},
   "outputs": [],
   "source": [
    "from sklearn.metrics import classification_report, confusion_matrix"
   ]
  },
  {
   "cell_type": "code",
   "execution_count": 115,
   "id": "d8ed36e0",
   "metadata": {},
   "outputs": [
    {
     "name": "stdout",
     "output_type": "stream",
     "text": [
      "              precision    recall  f1-score   support\n",
      "\n",
      "           0       0.75      0.50      0.60        42\n",
      "           1       0.71      0.88      0.78        58\n",
      "\n",
      "    accuracy                           0.72       100\n",
      "   macro avg       0.73      0.69      0.69       100\n",
      "weighted avg       0.73      0.72      0.71       100\n",
      "\n",
      "\n",
      "\n",
      "[[21 21]\n",
      " [ 7 51]]\n"
     ]
    }
   ],
   "source": [
    "print(classification_report(y_test, predictions))\n",
    "print('\\n')\n",
    "print(confusion_matrix(y_test, predictions))"
   ]
  },
  {
   "cell_type": "markdown",
   "id": "7183a943",
   "metadata": {},
   "source": [
    "**Based on the context of the topic, we would probably want to reduce our false negatives, so let's do a grid search to manage lowering our false negatives, even though false positives may rise.**"
   ]
  },
  {
   "cell_type": "markdown",
   "id": "1ec2cec6",
   "metadata": {},
   "source": [
    "# Using the Grid Search"
   ]
  },
  {
   "cell_type": "code",
   "execution_count": 89,
   "id": "b3510fae",
   "metadata": {},
   "outputs": [],
   "source": [
    "from sklearn.model_selection import GridSearchCV"
   ]
  },
  {
   "cell_type": "code",
   "execution_count": 100,
   "id": "c5905961",
   "metadata": {},
   "outputs": [],
   "source": [
    "param_grid = {'C': [1, 10, 100, 1000, 10000, 100000], 'gamma':[1,0.1, 0.01, 0.001, 0.0001, 0.00001], 'kernel': ['rbf']}"
   ]
  },
  {
   "cell_type": "code",
   "execution_count": 101,
   "id": "8cee5a40",
   "metadata": {},
   "outputs": [],
   "source": [
    "grid = GridSearchCV(SVC(), param_grid, verbose = 3)"
   ]
  },
  {
   "cell_type": "code",
   "execution_count": 102,
   "id": "1a32c4d8",
   "metadata": {},
   "outputs": [
    {
     "name": "stdout",
     "output_type": "stream",
     "text": [
      "Fitting 5 folds for each of 36 candidates, totalling 180 fits\n",
      "[CV 1/5] END .......................C=1, gamma=1, kernel=rbf; total time=   0.0s\n",
      "[CV 2/5] END .......................C=1, gamma=1, kernel=rbf; total time=   0.0s\n",
      "[CV 3/5] END .......................C=1, gamma=1, kernel=rbf; total time=   0.0s\n",
      "[CV 4/5] END .......................C=1, gamma=1, kernel=rbf; total time=   0.0s\n",
      "[CV 5/5] END .......................C=1, gamma=1, kernel=rbf; total time=   0.0s\n",
      "[CV 1/5] END .....................C=1, gamma=0.1, kernel=rbf; total time=   0.0s\n",
      "[CV 2/5] END .....................C=1, gamma=0.1, kernel=rbf; total time=   0.0s\n",
      "[CV 3/5] END .....................C=1, gamma=0.1, kernel=rbf; total time=   0.0s\n",
      "[CV 4/5] END .....................C=1, gamma=0.1, kernel=rbf; total time=   0.0s\n",
      "[CV 5/5] END .....................C=1, gamma=0.1, kernel=rbf; total time=   0.0s\n",
      "[CV 1/5] END ....................C=1, gamma=0.01, kernel=rbf; total time=   0.0s\n",
      "[CV 2/5] END ....................C=1, gamma=0.01, kernel=rbf; total time=   0.0s\n",
      "[CV 3/5] END ....................C=1, gamma=0.01, kernel=rbf; total time=   0.0s\n",
      "[CV 4/5] END ....................C=1, gamma=0.01, kernel=rbf; total time=   0.0s\n",
      "[CV 5/5] END ....................C=1, gamma=0.01, kernel=rbf; total time=   0.0s\n",
      "[CV 1/5] END ...................C=1, gamma=0.001, kernel=rbf; total time=   0.0s\n",
      "[CV 2/5] END ...................C=1, gamma=0.001, kernel=rbf; total time=   0.0s\n",
      "[CV 3/5] END ...................C=1, gamma=0.001, kernel=rbf; total time=   0.0s\n",
      "[CV 4/5] END ...................C=1, gamma=0.001, kernel=rbf; total time=   0.0s\n",
      "[CV 5/5] END ...................C=1, gamma=0.001, kernel=rbf; total time=   0.0s\n",
      "[CV 1/5] END ..................C=1, gamma=0.0001, kernel=rbf; total time=   0.0s\n",
      "[CV 2/5] END ..................C=1, gamma=0.0001, kernel=rbf; total time=   0.0s\n",
      "[CV 3/5] END ..................C=1, gamma=0.0001, kernel=rbf; total time=   0.0s\n",
      "[CV 4/5] END ..................C=1, gamma=0.0001, kernel=rbf; total time=   0.0s\n",
      "[CV 5/5] END ..................C=1, gamma=0.0001, kernel=rbf; total time=   0.0s\n",
      "[CV 1/5] END ...................C=1, gamma=1e-05, kernel=rbf; total time=   0.0s\n",
      "[CV 2/5] END ...................C=1, gamma=1e-05, kernel=rbf; total time=   0.0s\n",
      "[CV 3/5] END ...................C=1, gamma=1e-05, kernel=rbf; total time=   0.0s\n",
      "[CV 4/5] END ...................C=1, gamma=1e-05, kernel=rbf; total time=   0.0s\n",
      "[CV 5/5] END ...................C=1, gamma=1e-05, kernel=rbf; total time=   0.0s\n",
      "[CV 1/5] END ......................C=10, gamma=1, kernel=rbf; total time=   0.0s\n",
      "[CV 2/5] END ......................C=10, gamma=1, kernel=rbf; total time=   0.0s\n",
      "[CV 3/5] END ......................C=10, gamma=1, kernel=rbf; total time=   0.0s\n",
      "[CV 4/5] END ......................C=10, gamma=1, kernel=rbf; total time=   0.0s\n",
      "[CV 5/5] END ......................C=10, gamma=1, kernel=rbf; total time=   0.0s\n",
      "[CV 1/5] END ....................C=10, gamma=0.1, kernel=rbf; total time=   0.0s\n",
      "[CV 2/5] END ....................C=10, gamma=0.1, kernel=rbf; total time=   0.0s\n",
      "[CV 3/5] END ....................C=10, gamma=0.1, kernel=rbf; total time=   0.0s\n",
      "[CV 4/5] END ....................C=10, gamma=0.1, kernel=rbf; total time=   0.0s\n",
      "[CV 5/5] END ....................C=10, gamma=0.1, kernel=rbf; total time=   0.0s\n",
      "[CV 1/5] END ...................C=10, gamma=0.01, kernel=rbf; total time=   0.0s\n",
      "[CV 2/5] END ...................C=10, gamma=0.01, kernel=rbf; total time=   0.0s\n",
      "[CV 3/5] END ...................C=10, gamma=0.01, kernel=rbf; total time=   0.0s\n",
      "[CV 4/5] END ...................C=10, gamma=0.01, kernel=rbf; total time=   0.0s\n",
      "[CV 5/5] END ...................C=10, gamma=0.01, kernel=rbf; total time=   0.0s\n",
      "[CV 1/5] END ..................C=10, gamma=0.001, kernel=rbf; total time=   0.0s\n",
      "[CV 2/5] END ..................C=10, gamma=0.001, kernel=rbf; total time=   0.0s\n",
      "[CV 3/5] END ..................C=10, gamma=0.001, kernel=rbf; total time=   0.0s\n",
      "[CV 4/5] END ..................C=10, gamma=0.001, kernel=rbf; total time=   0.0s\n",
      "[CV 5/5] END ..................C=10, gamma=0.001, kernel=rbf; total time=   0.0s\n",
      "[CV 1/5] END .................C=10, gamma=0.0001, kernel=rbf; total time=   0.0s\n",
      "[CV 2/5] END .................C=10, gamma=0.0001, kernel=rbf; total time=   0.0s\n",
      "[CV 3/5] END .................C=10, gamma=0.0001, kernel=rbf; total time=   0.0s\n",
      "[CV 4/5] END .................C=10, gamma=0.0001, kernel=rbf; total time=   0.0s\n",
      "[CV 5/5] END .................C=10, gamma=0.0001, kernel=rbf; total time=   0.0s\n",
      "[CV 1/5] END ..................C=10, gamma=1e-05, kernel=rbf; total time=   0.0s\n",
      "[CV 2/5] END ..................C=10, gamma=1e-05, kernel=rbf; total time=   0.0s\n",
      "[CV 3/5] END ..................C=10, gamma=1e-05, kernel=rbf; total time=   0.0s\n",
      "[CV 4/5] END ..................C=10, gamma=1e-05, kernel=rbf; total time=   0.0s\n",
      "[CV 5/5] END ..................C=10, gamma=1e-05, kernel=rbf; total time=   0.0s\n",
      "[CV 1/5] END .....................C=100, gamma=1, kernel=rbf; total time=   0.0s\n",
      "[CV 2/5] END .....................C=100, gamma=1, kernel=rbf; total time=   0.0s\n",
      "[CV 3/5] END .....................C=100, gamma=1, kernel=rbf; total time=   0.0s\n",
      "[CV 4/5] END .....................C=100, gamma=1, kernel=rbf; total time=   0.0s\n",
      "[CV 5/5] END .....................C=100, gamma=1, kernel=rbf; total time=   0.0s\n",
      "[CV 1/5] END ...................C=100, gamma=0.1, kernel=rbf; total time=   0.0s\n",
      "[CV 2/5] END ...................C=100, gamma=0.1, kernel=rbf; total time=   0.0s\n",
      "[CV 3/5] END ...................C=100, gamma=0.1, kernel=rbf; total time=   0.0s\n",
      "[CV 4/5] END ...................C=100, gamma=0.1, kernel=rbf; total time=   0.0s\n",
      "[CV 5/5] END ...................C=100, gamma=0.1, kernel=rbf; total time=   0.0s\n",
      "[CV 1/5] END ..................C=100, gamma=0.01, kernel=rbf; total time=   0.0s\n",
      "[CV 2/5] END ..................C=100, gamma=0.01, kernel=rbf; total time=   0.0s\n",
      "[CV 3/5] END ..................C=100, gamma=0.01, kernel=rbf; total time=   0.0s\n",
      "[CV 4/5] END ..................C=100, gamma=0.01, kernel=rbf; total time=   0.0s\n",
      "[CV 5/5] END ..................C=100, gamma=0.01, kernel=rbf; total time=   0.0s\n",
      "[CV 1/5] END .................C=100, gamma=0.001, kernel=rbf; total time=   0.0s\n",
      "[CV 2/5] END .................C=100, gamma=0.001, kernel=rbf; total time=   0.0s\n",
      "[CV 3/5] END .................C=100, gamma=0.001, kernel=rbf; total time=   0.0s\n",
      "[CV 4/5] END .................C=100, gamma=0.001, kernel=rbf; total time=   0.0s\n",
      "[CV 5/5] END .................C=100, gamma=0.001, kernel=rbf; total time=   0.0s\n",
      "[CV 1/5] END ................C=100, gamma=0.0001, kernel=rbf; total time=   0.0s\n",
      "[CV 2/5] END ................C=100, gamma=0.0001, kernel=rbf; total time=   0.0s\n",
      "[CV 3/5] END ................C=100, gamma=0.0001, kernel=rbf; total time=   0.0s\n",
      "[CV 4/5] END ................C=100, gamma=0.0001, kernel=rbf; total time=   0.0s\n",
      "[CV 5/5] END ................C=100, gamma=0.0001, kernel=rbf; total time=   0.0s\n",
      "[CV 1/5] END .................C=100, gamma=1e-05, kernel=rbf; total time=   0.0s\n",
      "[CV 2/5] END .................C=100, gamma=1e-05, kernel=rbf; total time=   0.0s\n",
      "[CV 3/5] END .................C=100, gamma=1e-05, kernel=rbf; total time=   0.0s\n",
      "[CV 4/5] END .................C=100, gamma=1e-05, kernel=rbf; total time=   0.0s\n",
      "[CV 5/5] END .................C=100, gamma=1e-05, kernel=rbf; total time=   0.0s\n",
      "[CV 1/5] END ....................C=1000, gamma=1, kernel=rbf; total time=   0.0s\n",
      "[CV 2/5] END ....................C=1000, gamma=1, kernel=rbf; total time=   0.0s\n",
      "[CV 3/5] END ....................C=1000, gamma=1, kernel=rbf; total time=   0.0s\n",
      "[CV 4/5] END ....................C=1000, gamma=1, kernel=rbf; total time=   0.0s\n",
      "[CV 5/5] END ....................C=1000, gamma=1, kernel=rbf; total time=   0.0s\n",
      "[CV 1/5] END ..................C=1000, gamma=0.1, kernel=rbf; total time=   0.0s\n",
      "[CV 2/5] END ..................C=1000, gamma=0.1, kernel=rbf; total time=   0.0s\n",
      "[CV 3/5] END ..................C=1000, gamma=0.1, kernel=rbf; total time=   0.0s\n",
      "[CV 4/5] END ..................C=1000, gamma=0.1, kernel=rbf; total time=   0.0s\n",
      "[CV 5/5] END ..................C=1000, gamma=0.1, kernel=rbf; total time=   0.0s\n",
      "[CV 1/5] END .................C=1000, gamma=0.01, kernel=rbf; total time=   0.0s\n",
      "[CV 2/5] END .................C=1000, gamma=0.01, kernel=rbf; total time=   0.0s\n",
      "[CV 3/5] END .................C=1000, gamma=0.01, kernel=rbf; total time=   0.0s\n",
      "[CV 4/5] END .................C=1000, gamma=0.01, kernel=rbf; total time=   0.0s\n",
      "[CV 5/5] END .................C=1000, gamma=0.01, kernel=rbf; total time=   0.0s\n",
      "[CV 1/5] END ................C=1000, gamma=0.001, kernel=rbf; total time=   0.0s\n",
      "[CV 2/5] END ................C=1000, gamma=0.001, kernel=rbf; total time=   0.0s\n",
      "[CV 3/5] END ................C=1000, gamma=0.001, kernel=rbf; total time=   0.0s\n",
      "[CV 4/5] END ................C=1000, gamma=0.001, kernel=rbf; total time=   0.0s\n",
      "[CV 5/5] END ................C=1000, gamma=0.001, kernel=rbf; total time=   0.0s\n",
      "[CV 1/5] END ...............C=1000, gamma=0.0001, kernel=rbf; total time=   0.0s\n",
      "[CV 2/5] END ...............C=1000, gamma=0.0001, kernel=rbf; total time=   0.0s\n",
      "[CV 3/5] END ...............C=1000, gamma=0.0001, kernel=rbf; total time=   0.0s\n",
      "[CV 4/5] END ...............C=1000, gamma=0.0001, kernel=rbf; total time=   0.0s\n",
      "[CV 5/5] END ...............C=1000, gamma=0.0001, kernel=rbf; total time=   0.0s\n"
     ]
    },
    {
     "name": "stdout",
     "output_type": "stream",
     "text": [
      "[CV 1/5] END ................C=1000, gamma=1e-05, kernel=rbf; total time=   0.0s\n",
      "[CV 2/5] END ................C=1000, gamma=1e-05, kernel=rbf; total time=   0.0s\n",
      "[CV 3/5] END ................C=1000, gamma=1e-05, kernel=rbf; total time=   0.0s\n",
      "[CV 4/5] END ................C=1000, gamma=1e-05, kernel=rbf; total time=   0.0s\n",
      "[CV 5/5] END ................C=1000, gamma=1e-05, kernel=rbf; total time=   0.0s\n",
      "[CV 1/5] END ...................C=10000, gamma=1, kernel=rbf; total time=   0.0s\n",
      "[CV 2/5] END ...................C=10000, gamma=1, kernel=rbf; total time=   0.0s\n",
      "[CV 3/5] END ...................C=10000, gamma=1, kernel=rbf; total time=   0.0s\n",
      "[CV 4/5] END ...................C=10000, gamma=1, kernel=rbf; total time=   0.0s\n",
      "[CV 5/5] END ...................C=10000, gamma=1, kernel=rbf; total time=   0.0s\n",
      "[CV 1/5] END .................C=10000, gamma=0.1, kernel=rbf; total time=   0.0s\n",
      "[CV 2/5] END .................C=10000, gamma=0.1, kernel=rbf; total time=   0.0s\n",
      "[CV 3/5] END .................C=10000, gamma=0.1, kernel=rbf; total time=   0.0s\n",
      "[CV 4/5] END .................C=10000, gamma=0.1, kernel=rbf; total time=   0.0s\n",
      "[CV 5/5] END .................C=10000, gamma=0.1, kernel=rbf; total time=   0.0s\n",
      "[CV 1/5] END ................C=10000, gamma=0.01, kernel=rbf; total time=   0.0s\n",
      "[CV 2/5] END ................C=10000, gamma=0.01, kernel=rbf; total time=   0.0s\n",
      "[CV 3/5] END ................C=10000, gamma=0.01, kernel=rbf; total time=   0.0s\n",
      "[CV 4/5] END ................C=10000, gamma=0.01, kernel=rbf; total time=   0.0s\n",
      "[CV 5/5] END ................C=10000, gamma=0.01, kernel=rbf; total time=   0.0s\n",
      "[CV 1/5] END ...............C=10000, gamma=0.001, kernel=rbf; total time=   0.0s\n",
      "[CV 2/5] END ...............C=10000, gamma=0.001, kernel=rbf; total time=   0.0s\n",
      "[CV 3/5] END ...............C=10000, gamma=0.001, kernel=rbf; total time=   0.0s\n",
      "[CV 4/5] END ...............C=10000, gamma=0.001, kernel=rbf; total time=   0.0s\n",
      "[CV 5/5] END ...............C=10000, gamma=0.001, kernel=rbf; total time=   0.0s\n",
      "[CV 1/5] END ..............C=10000, gamma=0.0001, kernel=rbf; total time=   0.0s\n",
      "[CV 2/5] END ..............C=10000, gamma=0.0001, kernel=rbf; total time=   0.1s\n",
      "[CV 3/5] END ..............C=10000, gamma=0.0001, kernel=rbf; total time=   0.0s\n",
      "[CV 4/5] END ..............C=10000, gamma=0.0001, kernel=rbf; total time=   0.0s\n",
      "[CV 5/5] END ..............C=10000, gamma=0.0001, kernel=rbf; total time=   0.0s\n",
      "[CV 1/5] END ...............C=10000, gamma=1e-05, kernel=rbf; total time=   0.0s\n",
      "[CV 2/5] END ...............C=10000, gamma=1e-05, kernel=rbf; total time=   0.0s\n",
      "[CV 3/5] END ...............C=10000, gamma=1e-05, kernel=rbf; total time=   0.0s\n",
      "[CV 4/5] END ...............C=10000, gamma=1e-05, kernel=rbf; total time=   0.0s\n",
      "[CV 5/5] END ...............C=10000, gamma=1e-05, kernel=rbf; total time=   0.0s\n",
      "[CV 1/5] END ..................C=100000, gamma=1, kernel=rbf; total time=   0.0s\n",
      "[CV 2/5] END ..................C=100000, gamma=1, kernel=rbf; total time=   0.0s\n",
      "[CV 3/5] END ..................C=100000, gamma=1, kernel=rbf; total time=   0.0s\n",
      "[CV 4/5] END ..................C=100000, gamma=1, kernel=rbf; total time=   0.0s\n",
      "[CV 5/5] END ..................C=100000, gamma=1, kernel=rbf; total time=   0.0s\n",
      "[CV 1/5] END ................C=100000, gamma=0.1, kernel=rbf; total time=   0.0s\n",
      "[CV 2/5] END ................C=100000, gamma=0.1, kernel=rbf; total time=   0.0s\n",
      "[CV 3/5] END ................C=100000, gamma=0.1, kernel=rbf; total time=   0.0s\n",
      "[CV 4/5] END ................C=100000, gamma=0.1, kernel=rbf; total time=   0.0s\n",
      "[CV 5/5] END ................C=100000, gamma=0.1, kernel=rbf; total time=   0.0s\n",
      "[CV 1/5] END ...............C=100000, gamma=0.01, kernel=rbf; total time=   0.0s\n",
      "[CV 2/5] END ...............C=100000, gamma=0.01, kernel=rbf; total time=   0.0s\n",
      "[CV 3/5] END ...............C=100000, gamma=0.01, kernel=rbf; total time=   0.0s\n",
      "[CV 4/5] END ...............C=100000, gamma=0.01, kernel=rbf; total time=   0.0s\n",
      "[CV 5/5] END ...............C=100000, gamma=0.01, kernel=rbf; total time=   0.0s\n",
      "[CV 1/5] END ..............C=100000, gamma=0.001, kernel=rbf; total time=   0.0s\n",
      "[CV 2/5] END ..............C=100000, gamma=0.001, kernel=rbf; total time=   0.0s\n",
      "[CV 3/5] END ..............C=100000, gamma=0.001, kernel=rbf; total time=   0.0s\n",
      "[CV 4/5] END ..............C=100000, gamma=0.001, kernel=rbf; total time=   0.0s\n",
      "[CV 5/5] END ..............C=100000, gamma=0.001, kernel=rbf; total time=   0.0s\n",
      "[CV 1/5] END .............C=100000, gamma=0.0001, kernel=rbf; total time=   0.1s\n",
      "[CV 2/5] END .............C=100000, gamma=0.0001, kernel=rbf; total time=   0.1s\n",
      "[CV 3/5] END .............C=100000, gamma=0.0001, kernel=rbf; total time=   0.1s\n",
      "[CV 4/5] END .............C=100000, gamma=0.0001, kernel=rbf; total time=   0.1s\n",
      "[CV 5/5] END .............C=100000, gamma=0.0001, kernel=rbf; total time=   0.0s\n",
      "[CV 1/5] END ..............C=100000, gamma=1e-05, kernel=rbf; total time=   0.1s\n",
      "[CV 2/5] END ..............C=100000, gamma=1e-05, kernel=rbf; total time=   0.1s\n",
      "[CV 3/5] END ..............C=100000, gamma=1e-05, kernel=rbf; total time=   0.1s\n",
      "[CV 4/5] END ..............C=100000, gamma=1e-05, kernel=rbf; total time=   0.1s\n",
      "[CV 5/5] END ..............C=100000, gamma=1e-05, kernel=rbf; total time=   0.1s\n"
     ]
    },
    {
     "data": {
      "text/plain": [
       "GridSearchCV(estimator=SVC(),\n",
       "             param_grid={'C': [1, 10, 100, 1000, 10000, 100000],\n",
       "                         'gamma': [1, 0.1, 0.01, 0.001, 0.0001, 1e-05],\n",
       "                         'kernel': ['rbf']},\n",
       "             verbose=3)"
      ]
     },
     "execution_count": 102,
     "metadata": {},
     "output_type": "execute_result"
    }
   ],
   "source": [
    "grid.fit(X_train, y_train)"
   ]
  },
  {
   "cell_type": "code",
   "execution_count": 103,
   "id": "fd9d8bd4",
   "metadata": {},
   "outputs": [
    {
     "data": {
      "text/plain": [
       "{'C': 1000, 'gamma': 1e-05, 'kernel': 'rbf'}"
      ]
     },
     "execution_count": 103,
     "metadata": {},
     "output_type": "execute_result"
    }
   ],
   "source": [
    "grid.best_params_"
   ]
  },
  {
   "cell_type": "code",
   "execution_count": 104,
   "id": "c339adcb",
   "metadata": {},
   "outputs": [
    {
     "name": "stdout",
     "output_type": "stream",
     "text": [
      "Fitting 5 folds for each of 36 candidates, totalling 180 fits\n",
      "[CV 1/5] END .......................C=1, gamma=1, kernel=rbf; total time=   0.0s\n",
      "[CV 2/5] END .......................C=1, gamma=1, kernel=rbf; total time=   0.0s\n",
      "[CV 3/5] END .......................C=1, gamma=1, kernel=rbf; total time=   0.0s\n",
      "[CV 4/5] END .......................C=1, gamma=1, kernel=rbf; total time=   0.0s\n",
      "[CV 5/5] END .......................C=1, gamma=1, kernel=rbf; total time=   0.0s\n",
      "[CV 1/5] END .....................C=1, gamma=0.1, kernel=rbf; total time=   0.0s\n",
      "[CV 2/5] END .....................C=1, gamma=0.1, kernel=rbf; total time=   0.0s\n",
      "[CV 3/5] END .....................C=1, gamma=0.1, kernel=rbf; total time=   0.0s\n",
      "[CV 4/5] END .....................C=1, gamma=0.1, kernel=rbf; total time=   0.0s\n",
      "[CV 5/5] END .....................C=1, gamma=0.1, kernel=rbf; total time=   0.0s\n",
      "[CV 1/5] END ....................C=1, gamma=0.01, kernel=rbf; total time=   0.0s\n",
      "[CV 2/5] END ....................C=1, gamma=0.01, kernel=rbf; total time=   0.0s\n",
      "[CV 3/5] END ....................C=1, gamma=0.01, kernel=rbf; total time=   0.0s\n",
      "[CV 4/5] END ....................C=1, gamma=0.01, kernel=rbf; total time=   0.0s\n",
      "[CV 5/5] END ....................C=1, gamma=0.01, kernel=rbf; total time=   0.0s\n",
      "[CV 1/5] END ...................C=1, gamma=0.001, kernel=rbf; total time=   0.0s\n",
      "[CV 2/5] END ...................C=1, gamma=0.001, kernel=rbf; total time=   0.0s\n",
      "[CV 3/5] END ...................C=1, gamma=0.001, kernel=rbf; total time=   0.0s\n",
      "[CV 4/5] END ...................C=1, gamma=0.001, kernel=rbf; total time=   0.0s\n",
      "[CV 5/5] END ...................C=1, gamma=0.001, kernel=rbf; total time=   0.0s\n",
      "[CV 1/5] END ..................C=1, gamma=0.0001, kernel=rbf; total time=   0.0s\n",
      "[CV 2/5] END ..................C=1, gamma=0.0001, kernel=rbf; total time=   0.0s\n",
      "[CV 3/5] END ..................C=1, gamma=0.0001, kernel=rbf; total time=   0.0s\n",
      "[CV 4/5] END ..................C=1, gamma=0.0001, kernel=rbf; total time=   0.0s\n",
      "[CV 5/5] END ..................C=1, gamma=0.0001, kernel=rbf; total time=   0.0s\n",
      "[CV 1/5] END ...................C=1, gamma=1e-05, kernel=rbf; total time=   0.0s\n",
      "[CV 2/5] END ...................C=1, gamma=1e-05, kernel=rbf; total time=   0.0s\n",
      "[CV 3/5] END ...................C=1, gamma=1e-05, kernel=rbf; total time=   0.0s\n",
      "[CV 4/5] END ...................C=1, gamma=1e-05, kernel=rbf; total time=   0.0s\n",
      "[CV 5/5] END ...................C=1, gamma=1e-05, kernel=rbf; total time=   0.0s\n",
      "[CV 1/5] END ......................C=10, gamma=1, kernel=rbf; total time=   0.0s\n",
      "[CV 2/5] END ......................C=10, gamma=1, kernel=rbf; total time=   0.0s\n",
      "[CV 3/5] END ......................C=10, gamma=1, kernel=rbf; total time=   0.0s\n",
      "[CV 4/5] END ......................C=10, gamma=1, kernel=rbf; total time=   0.0s\n",
      "[CV 5/5] END ......................C=10, gamma=1, kernel=rbf; total time=   0.0s\n",
      "[CV 1/5] END ....................C=10, gamma=0.1, kernel=rbf; total time=   0.0s\n",
      "[CV 2/5] END ....................C=10, gamma=0.1, kernel=rbf; total time=   0.0s\n",
      "[CV 3/5] END ....................C=10, gamma=0.1, kernel=rbf; total time=   0.0s\n",
      "[CV 4/5] END ....................C=10, gamma=0.1, kernel=rbf; total time=   0.0s\n",
      "[CV 5/5] END ....................C=10, gamma=0.1, kernel=rbf; total time=   0.0s\n",
      "[CV 1/5] END ...................C=10, gamma=0.01, kernel=rbf; total time=   0.0s\n",
      "[CV 2/5] END ...................C=10, gamma=0.01, kernel=rbf; total time=   0.0s\n",
      "[CV 3/5] END ...................C=10, gamma=0.01, kernel=rbf; total time=   0.0s\n",
      "[CV 4/5] END ...................C=10, gamma=0.01, kernel=rbf; total time=   0.0s\n",
      "[CV 5/5] END ...................C=10, gamma=0.01, kernel=rbf; total time=   0.0s\n",
      "[CV 1/5] END ..................C=10, gamma=0.001, kernel=rbf; total time=   0.0s\n",
      "[CV 2/5] END ..................C=10, gamma=0.001, kernel=rbf; total time=   0.0s\n",
      "[CV 3/5] END ..................C=10, gamma=0.001, kernel=rbf; total time=   0.0s\n",
      "[CV 4/5] END ..................C=10, gamma=0.001, kernel=rbf; total time=   0.0s\n",
      "[CV 5/5] END ..................C=10, gamma=0.001, kernel=rbf; total time=   0.0s\n",
      "[CV 1/5] END .................C=10, gamma=0.0001, kernel=rbf; total time=   0.0s\n",
      "[CV 2/5] END .................C=10, gamma=0.0001, kernel=rbf; total time=   0.0s\n",
      "[CV 3/5] END .................C=10, gamma=0.0001, kernel=rbf; total time=   0.0s\n",
      "[CV 4/5] END .................C=10, gamma=0.0001, kernel=rbf; total time=   0.0s\n",
      "[CV 5/5] END .................C=10, gamma=0.0001, kernel=rbf; total time=   0.0s\n",
      "[CV 1/5] END ..................C=10, gamma=1e-05, kernel=rbf; total time=   0.0s\n",
      "[CV 2/5] END ..................C=10, gamma=1e-05, kernel=rbf; total time=   0.0s\n",
      "[CV 3/5] END ..................C=10, gamma=1e-05, kernel=rbf; total time=   0.0s\n",
      "[CV 4/5] END ..................C=10, gamma=1e-05, kernel=rbf; total time=   0.0s\n",
      "[CV 5/5] END ..................C=10, gamma=1e-05, kernel=rbf; total time=   0.0s\n",
      "[CV 1/5] END .....................C=100, gamma=1, kernel=rbf; total time=   0.0s\n",
      "[CV 2/5] END .....................C=100, gamma=1, kernel=rbf; total time=   0.0s\n",
      "[CV 3/5] END .....................C=100, gamma=1, kernel=rbf; total time=   0.0s\n",
      "[CV 4/5] END .....................C=100, gamma=1, kernel=rbf; total time=   0.0s\n",
      "[CV 5/5] END .....................C=100, gamma=1, kernel=rbf; total time=   0.0s\n",
      "[CV 1/5] END ...................C=100, gamma=0.1, kernel=rbf; total time=   0.0s\n",
      "[CV 2/5] END ...................C=100, gamma=0.1, kernel=rbf; total time=   0.0s\n",
      "[CV 3/5] END ...................C=100, gamma=0.1, kernel=rbf; total time=   0.0s\n",
      "[CV 4/5] END ...................C=100, gamma=0.1, kernel=rbf; total time=   0.0s\n",
      "[CV 5/5] END ...................C=100, gamma=0.1, kernel=rbf; total time=   0.0s\n",
      "[CV 1/5] END ..................C=100, gamma=0.01, kernel=rbf; total time=   0.0s\n",
      "[CV 2/5] END ..................C=100, gamma=0.01, kernel=rbf; total time=   0.0s\n",
      "[CV 3/5] END ..................C=100, gamma=0.01, kernel=rbf; total time=   0.0s\n",
      "[CV 4/5] END ..................C=100, gamma=0.01, kernel=rbf; total time=   0.0s\n",
      "[CV 5/5] END ..................C=100, gamma=0.01, kernel=rbf; total time=   0.0s\n",
      "[CV 1/5] END .................C=100, gamma=0.001, kernel=rbf; total time=   0.0s\n",
      "[CV 2/5] END .................C=100, gamma=0.001, kernel=rbf; total time=   0.0s\n",
      "[CV 3/5] END .................C=100, gamma=0.001, kernel=rbf; total time=   0.0s\n",
      "[CV 4/5] END .................C=100, gamma=0.001, kernel=rbf; total time=   0.0s\n",
      "[CV 5/5] END .................C=100, gamma=0.001, kernel=rbf; total time=   0.0s\n",
      "[CV 1/5] END ................C=100, gamma=0.0001, kernel=rbf; total time=   0.0s\n",
      "[CV 2/5] END ................C=100, gamma=0.0001, kernel=rbf; total time=   0.0s\n",
      "[CV 3/5] END ................C=100, gamma=0.0001, kernel=rbf; total time=   0.0s\n",
      "[CV 4/5] END ................C=100, gamma=0.0001, kernel=rbf; total time=   0.0s\n",
      "[CV 5/5] END ................C=100, gamma=0.0001, kernel=rbf; total time=   0.0s\n",
      "[CV 1/5] END .................C=100, gamma=1e-05, kernel=rbf; total time=   0.0s\n",
      "[CV 2/5] END .................C=100, gamma=1e-05, kernel=rbf; total time=   0.0s\n",
      "[CV 3/5] END .................C=100, gamma=1e-05, kernel=rbf; total time=   0.0s\n",
      "[CV 4/5] END .................C=100, gamma=1e-05, kernel=rbf; total time=   0.0s\n",
      "[CV 5/5] END .................C=100, gamma=1e-05, kernel=rbf; total time=   0.0s\n",
      "[CV 1/5] END ....................C=1000, gamma=1, kernel=rbf; total time=   0.0s\n",
      "[CV 2/5] END ....................C=1000, gamma=1, kernel=rbf; total time=   0.0s\n",
      "[CV 3/5] END ....................C=1000, gamma=1, kernel=rbf; total time=   0.0s\n",
      "[CV 4/5] END ....................C=1000, gamma=1, kernel=rbf; total time=   0.0s\n",
      "[CV 5/5] END ....................C=1000, gamma=1, kernel=rbf; total time=   0.0s\n",
      "[CV 1/5] END ..................C=1000, gamma=0.1, kernel=rbf; total time=   0.0s\n",
      "[CV 2/5] END ..................C=1000, gamma=0.1, kernel=rbf; total time=   0.0s\n",
      "[CV 3/5] END ..................C=1000, gamma=0.1, kernel=rbf; total time=   0.0s\n",
      "[CV 4/5] END ..................C=1000, gamma=0.1, kernel=rbf; total time=   0.0s\n",
      "[CV 5/5] END ..................C=1000, gamma=0.1, kernel=rbf; total time=   0.0s\n",
      "[CV 1/5] END .................C=1000, gamma=0.01, kernel=rbf; total time=   0.0s\n",
      "[CV 2/5] END .................C=1000, gamma=0.01, kernel=rbf; total time=   0.0s\n",
      "[CV 3/5] END .................C=1000, gamma=0.01, kernel=rbf; total time=   0.0s\n",
      "[CV 4/5] END .................C=1000, gamma=0.01, kernel=rbf; total time=   0.0s\n",
      "[CV 5/5] END .................C=1000, gamma=0.01, kernel=rbf; total time=   0.0s\n",
      "[CV 1/5] END ................C=1000, gamma=0.001, kernel=rbf; total time=   0.0s\n",
      "[CV 2/5] END ................C=1000, gamma=0.001, kernel=rbf; total time=   0.0s\n",
      "[CV 3/5] END ................C=1000, gamma=0.001, kernel=rbf; total time=   0.0s\n",
      "[CV 4/5] END ................C=1000, gamma=0.001, kernel=rbf; total time=   0.0s\n",
      "[CV 5/5] END ................C=1000, gamma=0.001, kernel=rbf; total time=   0.0s\n",
      "[CV 1/5] END ...............C=1000, gamma=0.0001, kernel=rbf; total time=   0.0s\n",
      "[CV 2/5] END ...............C=1000, gamma=0.0001, kernel=rbf; total time=   0.0s\n",
      "[CV 3/5] END ...............C=1000, gamma=0.0001, kernel=rbf; total time=   0.0s\n"
     ]
    },
    {
     "name": "stdout",
     "output_type": "stream",
     "text": [
      "[CV 4/5] END ...............C=1000, gamma=0.0001, kernel=rbf; total time=   0.0s\n",
      "[CV 5/5] END ...............C=1000, gamma=0.0001, kernel=rbf; total time=   0.0s\n",
      "[CV 1/5] END ................C=1000, gamma=1e-05, kernel=rbf; total time=   0.0s\n",
      "[CV 2/5] END ................C=1000, gamma=1e-05, kernel=rbf; total time=   0.0s\n",
      "[CV 3/5] END ................C=1000, gamma=1e-05, kernel=rbf; total time=   0.0s\n",
      "[CV 4/5] END ................C=1000, gamma=1e-05, kernel=rbf; total time=   0.0s\n",
      "[CV 5/5] END ................C=1000, gamma=1e-05, kernel=rbf; total time=   0.0s\n",
      "[CV 1/5] END ...................C=10000, gamma=1, kernel=rbf; total time=   0.0s\n",
      "[CV 2/5] END ...................C=10000, gamma=1, kernel=rbf; total time=   0.0s\n",
      "[CV 3/5] END ...................C=10000, gamma=1, kernel=rbf; total time=   0.0s\n",
      "[CV 4/5] END ...................C=10000, gamma=1, kernel=rbf; total time=   0.0s\n",
      "[CV 5/5] END ...................C=10000, gamma=1, kernel=rbf; total time=   0.0s\n",
      "[CV 1/5] END .................C=10000, gamma=0.1, kernel=rbf; total time=   0.0s\n",
      "[CV 2/5] END .................C=10000, gamma=0.1, kernel=rbf; total time=   0.0s\n",
      "[CV 3/5] END .................C=10000, gamma=0.1, kernel=rbf; total time=   0.0s\n",
      "[CV 4/5] END .................C=10000, gamma=0.1, kernel=rbf; total time=   0.0s\n",
      "[CV 5/5] END .................C=10000, gamma=0.1, kernel=rbf; total time=   0.0s\n",
      "[CV 1/5] END ................C=10000, gamma=0.01, kernel=rbf; total time=   0.0s\n",
      "[CV 2/5] END ................C=10000, gamma=0.01, kernel=rbf; total time=   0.0s\n",
      "[CV 3/5] END ................C=10000, gamma=0.01, kernel=rbf; total time=   0.0s\n",
      "[CV 4/5] END ................C=10000, gamma=0.01, kernel=rbf; total time=   0.0s\n",
      "[CV 5/5] END ................C=10000, gamma=0.01, kernel=rbf; total time=   0.0s\n",
      "[CV 1/5] END ...............C=10000, gamma=0.001, kernel=rbf; total time=   0.0s\n",
      "[CV 2/5] END ...............C=10000, gamma=0.001, kernel=rbf; total time=   0.0s\n",
      "[CV 3/5] END ...............C=10000, gamma=0.001, kernel=rbf; total time=   0.0s\n",
      "[CV 4/5] END ...............C=10000, gamma=0.001, kernel=rbf; total time=   0.0s\n",
      "[CV 5/5] END ...............C=10000, gamma=0.001, kernel=rbf; total time=   0.0s\n",
      "[CV 1/5] END ..............C=10000, gamma=0.0001, kernel=rbf; total time=   0.0s\n",
      "[CV 2/5] END ..............C=10000, gamma=0.0001, kernel=rbf; total time=   0.1s\n",
      "[CV 3/5] END ..............C=10000, gamma=0.0001, kernel=rbf; total time=   0.0s\n",
      "[CV 4/5] END ..............C=10000, gamma=0.0001, kernel=rbf; total time=   0.1s\n",
      "[CV 5/5] END ..............C=10000, gamma=0.0001, kernel=rbf; total time=   0.0s\n",
      "[CV 1/5] END ...............C=10000, gamma=1e-05, kernel=rbf; total time=   0.0s\n",
      "[CV 2/5] END ...............C=10000, gamma=1e-05, kernel=rbf; total time=   0.0s\n",
      "[CV 3/5] END ...............C=10000, gamma=1e-05, kernel=rbf; total time=   0.0s\n",
      "[CV 4/5] END ...............C=10000, gamma=1e-05, kernel=rbf; total time=   0.0s\n",
      "[CV 5/5] END ...............C=10000, gamma=1e-05, kernel=rbf; total time=   0.0s\n",
      "[CV 1/5] END ..................C=100000, gamma=1, kernel=rbf; total time=   0.0s\n",
      "[CV 2/5] END ..................C=100000, gamma=1, kernel=rbf; total time=   0.0s\n",
      "[CV 3/5] END ..................C=100000, gamma=1, kernel=rbf; total time=   0.0s\n",
      "[CV 4/5] END ..................C=100000, gamma=1, kernel=rbf; total time=   0.0s\n",
      "[CV 5/5] END ..................C=100000, gamma=1, kernel=rbf; total time=   0.0s\n",
      "[CV 1/5] END ................C=100000, gamma=0.1, kernel=rbf; total time=   0.0s\n",
      "[CV 2/5] END ................C=100000, gamma=0.1, kernel=rbf; total time=   0.0s\n",
      "[CV 3/5] END ................C=100000, gamma=0.1, kernel=rbf; total time=   0.0s\n",
      "[CV 4/5] END ................C=100000, gamma=0.1, kernel=rbf; total time=   0.0s\n",
      "[CV 5/5] END ................C=100000, gamma=0.1, kernel=rbf; total time=   0.0s\n",
      "[CV 1/5] END ...............C=100000, gamma=0.01, kernel=rbf; total time=   0.0s\n",
      "[CV 2/5] END ...............C=100000, gamma=0.01, kernel=rbf; total time=   0.0s\n",
      "[CV 3/5] END ...............C=100000, gamma=0.01, kernel=rbf; total time=   0.0s\n",
      "[CV 4/5] END ...............C=100000, gamma=0.01, kernel=rbf; total time=   0.0s\n",
      "[CV 5/5] END ...............C=100000, gamma=0.01, kernel=rbf; total time=   0.0s\n",
      "[CV 1/5] END ..............C=100000, gamma=0.001, kernel=rbf; total time=   0.0s\n",
      "[CV 2/5] END ..............C=100000, gamma=0.001, kernel=rbf; total time=   0.0s\n",
      "[CV 3/5] END ..............C=100000, gamma=0.001, kernel=rbf; total time=   0.0s\n",
      "[CV 4/5] END ..............C=100000, gamma=0.001, kernel=rbf; total time=   0.0s\n",
      "[CV 5/5] END ..............C=100000, gamma=0.001, kernel=rbf; total time=   0.0s\n",
      "[CV 1/5] END .............C=100000, gamma=0.0001, kernel=rbf; total time=   0.1s\n",
      "[CV 2/5] END .............C=100000, gamma=0.0001, kernel=rbf; total time=   0.1s\n",
      "[CV 3/5] END .............C=100000, gamma=0.0001, kernel=rbf; total time=   0.1s\n",
      "[CV 4/5] END .............C=100000, gamma=0.0001, kernel=rbf; total time=   0.1s\n",
      "[CV 5/5] END .............C=100000, gamma=0.0001, kernel=rbf; total time=   0.0s\n",
      "[CV 1/5] END ..............C=100000, gamma=1e-05, kernel=rbf; total time=   0.1s\n",
      "[CV 2/5] END ..............C=100000, gamma=1e-05, kernel=rbf; total time=   0.1s\n",
      "[CV 3/5] END ..............C=100000, gamma=1e-05, kernel=rbf; total time=   0.1s\n",
      "[CV 4/5] END ..............C=100000, gamma=1e-05, kernel=rbf; total time=   0.1s\n",
      "[CV 5/5] END ..............C=100000, gamma=1e-05, kernel=rbf; total time=   0.1s\n"
     ]
    },
    {
     "data": {
      "text/plain": [
       "GridSearchCV(estimator=SVC(),\n",
       "             param_grid={'C': [1, 10, 100, 1000, 10000, 100000],\n",
       "                         'gamma': [1, 0.1, 0.01, 0.001, 0.0001, 1e-05],\n",
       "                         'kernel': ['rbf']},\n",
       "             verbose=3)"
      ]
     },
     "execution_count": 104,
     "metadata": {},
     "output_type": "execute_result"
    }
   ],
   "source": [
    "grid.fit(X_train, y_train)"
   ]
  },
  {
   "cell_type": "code",
   "execution_count": 105,
   "id": "1cbfc36b",
   "metadata": {},
   "outputs": [],
   "source": [
    "predictions = grid.predict(X_test)"
   ]
  },
  {
   "cell_type": "code",
   "execution_count": 106,
   "id": "b0a8f634",
   "metadata": {},
   "outputs": [
    {
     "name": "stdout",
     "output_type": "stream",
     "text": [
      "              precision    recall  f1-score   support\n",
      "\n",
      "           0       0.80      0.76      0.78        42\n",
      "           1       0.83      0.86      0.85        58\n",
      "\n",
      "    accuracy                           0.82       100\n",
      "   macro avg       0.82      0.81      0.81       100\n",
      "weighted avg       0.82      0.82      0.82       100\n",
      "\n",
      "\n",
      "\n",
      "[[32 10]\n",
      " [ 8 50]]\n"
     ]
    }
   ],
   "source": [
    "print(classification_report(y_test, predictions))\n",
    "print('\\n')\n",
    "print(confusion_matrix(y_test, predictions))"
   ]
  },
  {
   "cell_type": "markdown",
   "id": "64af72c7",
   "metadata": {},
   "source": [
    "**This seems to be the best model to use for this dataset as we only got 10 false negative cases and managed to retain high precision, recall, and f1-scores.**"
   ]
  }
 ],
 "metadata": {
  "kernelspec": {
   "display_name": "Python 3",
   "language": "python",
   "name": "python3"
  },
  "language_info": {
   "codemirror_mode": {
    "name": "ipython",
    "version": 3
   },
   "file_extension": ".py",
   "mimetype": "text/x-python",
   "name": "python",
   "nbconvert_exporter": "python",
   "pygments_lexer": "ipython3",
   "version": "3.8.8"
  }
 },
 "nbformat": 4,
 "nbformat_minor": 5
}
